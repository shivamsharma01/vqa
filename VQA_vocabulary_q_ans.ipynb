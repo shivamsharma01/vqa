{
 "cells": [
  {
   "cell_type": "code",
   "execution_count": 3,
   "metadata": {
    "colab": {
     "base_uri": "https://localhost:8080/"
    },
    "id": "umdBlnoue4x9",
    "outputId": "d485d890-4142-40be-92b5-4248c2b4e39b"
   },
   "outputs": [
    {
     "name": "stdout",
     "output_type": "stream",
     "text": [
      "Make vocabulary for questions\n",
      "The number of total words of questions: 17854\n",
      "Maximum length of question: 26\n",
      "Make vocabulary for answers\n",
      "The number of total words of answers: 181102\n",
      "Keep top 1000 answers into vocab\n"
     ]
    }
   ],
   "source": [
    "import os\n",
    "import argparse\n",
    "import numpy as np\n",
    "import json\n",
    "import re\n",
    "from collections import defaultdict\n",
    "\n",
    "\n",
    "def make_vocab_questions(input_dir):\n",
    "    \"\"\"Make dictionary for questions and save them into text file.\"\"\"\n",
    "    vocab_set = set()\n",
    "    SENTENCE_SPLIT_REGEX = re.compile(r'(\\W+)')\n",
    "    question_length = []\n",
    "    datasets = os.listdir(input_dir)\n",
    "    for dataset in datasets:    \n",
    "        with open(os.path.join(input_dir,dataset)) as f:\n",
    "            questions = json.load(f)['questions']\n",
    "        set_question_length = [None]*len(questions)\n",
    "        for iquestion, question in enumerate(questions):\n",
    "            words = SENTENCE_SPLIT_REGEX.split(question['question'].lower())\n",
    "            words = [w.strip() for w in words if len(w.strip()) > 0]\n",
    "            vocab_set.update(words)\n",
    "            set_question_length[iquestion] = len(words)\n",
    "        question_length += set_question_length\n",
    "\n",
    "    vocab_list = list(vocab_set)\n",
    "    vocab_list.sort()\n",
    "    vocab_list.insert(0, '<pad>')\n",
    "    vocab_list.insert(1, '<unk>')\n",
    "    \n",
    "    with open(os.path.join(args.input_dir, 'vocab_questions.txt'), 'w') as f:\n",
    "        f.writelines([w+'\\n' for w in vocab_list])\n",
    "    \n",
    "    print('Make vocabulary for questions')\n",
    "    print('The number of total words of questions: %d' % len(vocab_set))\n",
    "    print('Maximum length of question: %d' % np.max(question_length))\n",
    "\n",
    "\n",
    "def make_vocab_answers(input_dir, n_answers):\n",
    "    \"\"\"Make dictionary for top n answers and save them into text file.\"\"\"\n",
    "    answers = defaultdict(lambda: 0)\n",
    "    datasets = os.listdir(input_dir)\n",
    "    for dataset in datasets:\n",
    "        with open(input_dir+'/'+dataset) as f:\n",
    "            annotations = json.load(f)['annotations']\n",
    "        for annotation in annotations:\n",
    "            for answer in annotation['answers']:\n",
    "                word = answer['answer']\n",
    "                if re.search(r\"[^\\w\\s]\", word):\n",
    "                    continue\n",
    "                answers[word] += 1\n",
    "                \n",
    "    answers = sorted(answers, key=answers.get, reverse=True)\n",
    "    assert('<unk>' not in answers)\n",
    "    top_answers = ['<unk>'] + answers[:n_answers-1] # '-1' is due to '<unk>'\n",
    "    \n",
    "    with open(os.path.join(args.input_dir, 'vocab_answers.txt'), 'w') as f:\n",
    "        f.writelines([w+'\\n' for w in top_answers])\n",
    "\n",
    "    print('Make vocabulary for answers')\n",
    "    print('The number of total words of answers: %d' % len(answers))\n",
    "    print('Keep top %d answers into vocab' % n_answers)\n",
    "\n",
    "\n",
    "def main(args):\n",
    "    input_dir = args.input_dir\n",
    "    n_answers = args.n_answers\n",
    "    make_vocab_questions(input_dir+'/Questions')\n",
    "    make_vocab_answers(input_dir+'/Annotations', n_answers)\n",
    "\n",
    "\n",
    "if __name__ == '__main__':\n",
    "    parser = argparse.ArgumentParser()\n",
    "    parser.add_argument('--input_dir', type=str, default='C:/Users/priso/Downloads/VQA',\n",
    "                        help='directory for input questions and answers')\n",
    "    parser.add_argument('--n_answers', type=int, default=1000,\n",
    "                        help='the number of answers to be kept in vocab')\n",
    "    args = parser.parse_args(args = [])\n",
    "    main(args)"
   ]
  },
  {
   "cell_type": "code",
   "execution_count": 1,
   "metadata": {},
   "outputs": [
    {
     "name": "stdout",
     "output_type": "stream",
     "text": [
      "Requirement already satisfied: opencv-python in c:\\users\\priso\\anaconda3\\lib\\site-packages (4.5.2.54)\n",
      "Requirement already satisfied: numpy>=1.17.3 in c:\\users\\priso\\anaconda3\\lib\\site-packages (from opencv-python) (1.21.0)\n"
     ]
    }
   ],
   "source": [
    "!pip3 install opencv-python\n",
    "\n",
    "import cv2"
   ]
  }
 ],
 "metadata": {
  "colab": {
   "collapsed_sections": [],
   "name": "Vocabulary-q-ans.ipynb",
   "provenance": []
  },
  "kernelspec": {
   "display_name": "Python 3",
   "language": "python",
   "name": "python3"
  },
  "language_info": {
   "codemirror_mode": {
    "name": "ipython",
    "version": 3
   },
   "file_extension": ".py",
   "mimetype": "text/x-python",
   "name": "python",
   "nbconvert_exporter": "python",
   "pygments_lexer": "ipython3",
   "version": "3.8.8"
  }
 },
 "nbformat": 4,
 "nbformat_minor": 1
}
