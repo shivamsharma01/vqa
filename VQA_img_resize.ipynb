{
 "cells": [
  {
   "cell_type": "code",
   "execution_count": 5,
   "metadata": {
    "id": "mfH2BoluhqSn"
   },
   "outputs": [
    {
     "name": "stdout",
     "output_type": "stream",
     "text": [
      "Requirement already satisfied: opencv-python in c:\\users\\priso\\anaconda3\\lib\\site-packages (4.5.2.54)\n",
      "Requirement already satisfied: numpy>=1.17.3 in c:\\users\\priso\\anaconda3\\lib\\site-packages (from opencv-python) (1.21.0)\n"
     ]
    }
   ],
   "source": [
    "!pip3 install opencv-python\n",
    "import os, sys\n",
    "import argparse\n",
    "import cv2\n",
    "from tqdm import tqdm"
   ]
  },
  {
   "cell_type": "code",
   "execution_count": null,
   "metadata": {
    "id": "pBdo1P-Fho_l"
   },
   "outputs": [],
   "source": [
    "\"\"\"Resize an image to the given size.\"\"\"\n",
    "def resize_image(image, size):\n",
    "    return cv2.resize(image, size, interpolation = cv2.INTER_AREA)\n",
    "\n",
    "\n",
    "\"\"\"Resize the images in 'input_dir' and save into 'output_dir'.\"\"\"\n",
    "def resize_images(input_dir, output_dir, size):\n",
    "    for idir in os.scandir(input_dir):\n",
    "      if not idir.is_dir():\n",
    "          continue\n",
    "      if not os.path.exists(output_dir+'/'+idir.name):\n",
    "          os.makedirs(output_dir+'/'+idir.name)    \n",
    "      images = os.listdir(idir.path)\n",
    "      n_images = len(images)\n",
    "      print(f'number of files in {idir} {n_images}')\n",
    "      for iimage, image in tqdm(enumerate(images)):\n",
    "        im_path = os.path.join(output_dir+'/'+idir.name, image)\n",
    "        if not os.path.exists(im_path):\n",
    "          f = os.path.join(idir.path, image)\n",
    "          img = cv2.imread(f)\n",
    "          img = resize_image(img, size)\n",
    "          cv2.imwrite(os.path.join(output_dir+'/'+idir.name, image),img)\n",
    "          if (iimage+1) % 1000 == 0:\n",
    "              sys.stdout.write(\"[{}/{}] resized and saved.\".format(iimage+1, n_images))\n",
    "                      \n",
    "def main(args):\n",
    "    input_dir = args.input_dir\n",
    "    output_dir = args.output_dir\n",
    "    image_size = (args.image_size, args.image_size)\n",
    "    resize_images(input_dir, output_dir, image_size)\n"
   ]
  },
  {
   "cell_type": "code",
   "execution_count": 10,
   "metadata": {},
   "outputs": [],
   "source": [
    "\"\"\"Resize an image to the given size.\"\"\"\n",
    "def resize_image(image, size):\n",
    "    return cv2.resize(image, size, interpolation = cv2.INTER_AREA)\n",
    "\n",
    "\n",
    "\"\"\"Resize the images in 'input_dir' and save into 'output_dir'.\"\"\"\n",
    "def resize_images(input_dir, output_dir, size):  \n",
    "  images = os.listdir(input_dir)\n",
    "  n_images = len(images)\n",
    "  print(f'number of files in {input_dir} {n_images}')\n",
    "  for iimage, image in tqdm(enumerate(images)):\n",
    "    im_path = os.path.join(output_dir+'/', image)\n",
    "    if not os.path.exists(im_path):\n",
    "      f = os.path.join(input_dir, image)\n",
    "      img = cv2.imread(f)\n",
    "      img = resize_image(img, size)\n",
    "      cv2.imwrite(os.path.join(output_dir+'/', image),img)\n",
    "      if (iimage+1) % 1000 == 0:\n",
    "          sys.stdout.write(\"[{}/{}] resized and saved.\".format(iimage+1, n_images))\n",
    "\n",
    "def main(args):\n",
    "    input_dir = args.input_dir\n",
    "    output_dir = args.output_dir\n",
    "    image_size = (args.image_size, args.image_size)\n",
    "    resize_images(input_dir, output_dir, image_size)\n"
   ]
  },
  {
   "cell_type": "markdown",
   "metadata": {
    "id": "4BoUNwK7hjMp"
   },
   "source": [
    "##Execute"
   ]
  },
  {
   "cell_type": "code",
   "execution_count": 12,
   "metadata": {
    "id": "6_bzDgjehibN"
   },
   "outputs": [
    {
     "name": "stderr",
     "output_type": "stream",
     "text": [
      "10it [00:00, 87.40it/s]"
     ]
    },
    {
     "name": "stdout",
     "output_type": "stream",
     "text": [
      "number of files in C:/Users/priso/Downloads/VQA/Images/train2014 82783\n"
     ]
    },
    {
     "name": "stderr",
     "output_type": "stream",
     "text": [
      "1021it [00:08, 125.26it/s]"
     ]
    },
    {
     "name": "stdout",
     "output_type": "stream",
     "text": [
      "[1000/82783] resized and saved."
     ]
    },
    {
     "name": "stderr",
     "output_type": "stream",
     "text": [
      "2016it [00:16, 128.58it/s]"
     ]
    },
    {
     "name": "stdout",
     "output_type": "stream",
     "text": [
      "[2000/82783] resized and saved."
     ]
    },
    {
     "name": "stderr",
     "output_type": "stream",
     "text": [
      "3020it [00:24, 124.71it/s]"
     ]
    },
    {
     "name": "stdout",
     "output_type": "stream",
     "text": [
      "[3000/82783] resized and saved."
     ]
    },
    {
     "name": "stderr",
     "output_type": "stream",
     "text": [
      "4010it [00:32, 122.46it/s]"
     ]
    },
    {
     "name": "stdout",
     "output_type": "stream",
     "text": [
      "[4000/82783] resized and saved."
     ]
    },
    {
     "name": "stderr",
     "output_type": "stream",
     "text": [
      "5018it [00:41, 126.35it/s]"
     ]
    },
    {
     "name": "stdout",
     "output_type": "stream",
     "text": [
      "[5000/82783] resized and saved."
     ]
    },
    {
     "name": "stderr",
     "output_type": "stream",
     "text": [
      "6019it [00:49, 127.75it/s]"
     ]
    },
    {
     "name": "stdout",
     "output_type": "stream",
     "text": [
      "[6000/82783] resized and saved."
     ]
    },
    {
     "name": "stderr",
     "output_type": "stream",
     "text": [
      "7016it [00:57, 129.75it/s]"
     ]
    },
    {
     "name": "stdout",
     "output_type": "stream",
     "text": [
      "[7000/82783] resized and saved."
     ]
    },
    {
     "name": "stderr",
     "output_type": "stream",
     "text": [
      "8015it [01:05, 124.97it/s]"
     ]
    },
    {
     "name": "stdout",
     "output_type": "stream",
     "text": [
      "[8000/82783] resized and saved."
     ]
    },
    {
     "name": "stderr",
     "output_type": "stream",
     "text": [
      "9021it [01:13, 124.03it/s]"
     ]
    },
    {
     "name": "stdout",
     "output_type": "stream",
     "text": [
      "[9000/82783] resized and saved."
     ]
    },
    {
     "name": "stderr",
     "output_type": "stream",
     "text": [
      "10015it [01:21, 129.17it/s]"
     ]
    },
    {
     "name": "stdout",
     "output_type": "stream",
     "text": [
      "[10000/82783] resized and saved."
     ]
    },
    {
     "name": "stderr",
     "output_type": "stream",
     "text": [
      "11012it [01:29, 95.12it/s] "
     ]
    },
    {
     "name": "stdout",
     "output_type": "stream",
     "text": [
      "[11000/82783] resized and saved."
     ]
    },
    {
     "name": "stderr",
     "output_type": "stream",
     "text": [
      "12962it [01:37, 385.66it/s] "
     ]
    },
    {
     "name": "stdout",
     "output_type": "stream",
     "text": [
      "[13000/82783] resized and saved."
     ]
    },
    {
     "name": "stderr",
     "output_type": "stream",
     "text": [
      "14016it [01:46, 115.81it/s]"
     ]
    },
    {
     "name": "stdout",
     "output_type": "stream",
     "text": [
      "[14000/82783] resized and saved."
     ]
    },
    {
     "name": "stderr",
     "output_type": "stream",
     "text": [
      "15019it [01:55, 117.39it/s]"
     ]
    },
    {
     "name": "stdout",
     "output_type": "stream",
     "text": [
      "[15000/82783] resized and saved."
     ]
    },
    {
     "name": "stderr",
     "output_type": "stream",
     "text": [
      "16017it [02:04, 109.69it/s]"
     ]
    },
    {
     "name": "stdout",
     "output_type": "stream",
     "text": [
      "[16000/82783] resized and saved."
     ]
    },
    {
     "name": "stderr",
     "output_type": "stream",
     "text": [
      "17020it [02:12, 123.57it/s]"
     ]
    },
    {
     "name": "stdout",
     "output_type": "stream",
     "text": [
      "[17000/82783] resized and saved."
     ]
    },
    {
     "name": "stderr",
     "output_type": "stream",
     "text": [
      "18012it [02:22, 95.33it/s] "
     ]
    },
    {
     "name": "stdout",
     "output_type": "stream",
     "text": [
      "[18000/82783] resized and saved."
     ]
    },
    {
     "name": "stderr",
     "output_type": "stream",
     "text": [
      "19008it [02:34, 81.94it/s] "
     ]
    },
    {
     "name": "stdout",
     "output_type": "stream",
     "text": [
      "[19000/82783] resized and saved."
     ]
    },
    {
     "name": "stderr",
     "output_type": "stream",
     "text": [
      "20016it [02:46, 93.79it/s]"
     ]
    },
    {
     "name": "stdout",
     "output_type": "stream",
     "text": [
      "[20000/82783] resized and saved."
     ]
    },
    {
     "name": "stderr",
     "output_type": "stream",
     "text": [
      "21011it [02:56, 88.37it/s] "
     ]
    },
    {
     "name": "stdout",
     "output_type": "stream",
     "text": [
      "[21000/82783] resized and saved."
     ]
    },
    {
     "name": "stderr",
     "output_type": "stream",
     "text": [
      "22011it [03:08, 88.28it/s]"
     ]
    },
    {
     "name": "stdout",
     "output_type": "stream",
     "text": [
      "[22000/82783] resized and saved."
     ]
    },
    {
     "name": "stderr",
     "output_type": "stream",
     "text": [
      "23011it [03:19, 93.77it/s]"
     ]
    },
    {
     "name": "stdout",
     "output_type": "stream",
     "text": [
      "[23000/82783] resized and saved."
     ]
    },
    {
     "name": "stderr",
     "output_type": "stream",
     "text": [
      "24019it [03:30, 94.70it/s]"
     ]
    },
    {
     "name": "stdout",
     "output_type": "stream",
     "text": [
      "[24000/82783] resized and saved."
     ]
    },
    {
     "name": "stderr",
     "output_type": "stream",
     "text": [
      "25013it [03:41, 80.33it/s]"
     ]
    },
    {
     "name": "stdout",
     "output_type": "stream",
     "text": [
      "[25000/82783] resized and saved."
     ]
    },
    {
     "name": "stderr",
     "output_type": "stream",
     "text": [
      "26011it [03:53, 86.63it/s]"
     ]
    },
    {
     "name": "stdout",
     "output_type": "stream",
     "text": [
      "[26000/82783] resized and saved."
     ]
    },
    {
     "name": "stderr",
     "output_type": "stream",
     "text": [
      "27015it [04:05, 90.44it/s]"
     ]
    },
    {
     "name": "stdout",
     "output_type": "stream",
     "text": [
      "[27000/82783] resized and saved."
     ]
    },
    {
     "name": "stderr",
     "output_type": "stream",
     "text": [
      "28008it [04:17, 82.85it/s]"
     ]
    },
    {
     "name": "stdout",
     "output_type": "stream",
     "text": [
      "[28000/82783] resized and saved."
     ]
    },
    {
     "name": "stderr",
     "output_type": "stream",
     "text": [
      "29008it [04:29, 79.87it/s]"
     ]
    },
    {
     "name": "stdout",
     "output_type": "stream",
     "text": [
      "[29000/82783] resized and saved."
     ]
    },
    {
     "name": "stderr",
     "output_type": "stream",
     "text": [
      "30008it [04:41, 84.70it/s]"
     ]
    },
    {
     "name": "stdout",
     "output_type": "stream",
     "text": [
      "[30000/82783] resized and saved."
     ]
    },
    {
     "name": "stderr",
     "output_type": "stream",
     "text": [
      "31011it [04:54, 76.03it/s]"
     ]
    },
    {
     "name": "stdout",
     "output_type": "stream",
     "text": [
      "[31000/82783] resized and saved."
     ]
    },
    {
     "name": "stderr",
     "output_type": "stream",
     "text": [
      "32013it [05:07, 73.76it/s]"
     ]
    },
    {
     "name": "stdout",
     "output_type": "stream",
     "text": [
      "[32000/82783] resized and saved."
     ]
    },
    {
     "name": "stderr",
     "output_type": "stream",
     "text": [
      "33012it [05:19, 75.45it/s]"
     ]
    },
    {
     "name": "stdout",
     "output_type": "stream",
     "text": [
      "[33000/82783] resized and saved."
     ]
    },
    {
     "name": "stderr",
     "output_type": "stream",
     "text": [
      "34014it [05:32, 79.60it/s]"
     ]
    },
    {
     "name": "stdout",
     "output_type": "stream",
     "text": [
      "[34000/82783] resized and saved."
     ]
    },
    {
     "name": "stderr",
     "output_type": "stream",
     "text": [
      "35010it [05:43, 84.73it/s]"
     ]
    },
    {
     "name": "stdout",
     "output_type": "stream",
     "text": [
      "[35000/82783] resized and saved."
     ]
    },
    {
     "name": "stderr",
     "output_type": "stream",
     "text": [
      "36016it [05:56, 91.75it/s]"
     ]
    },
    {
     "name": "stdout",
     "output_type": "stream",
     "text": [
      "[36000/82783] resized and saved."
     ]
    },
    {
     "name": "stderr",
     "output_type": "stream",
     "text": [
      "37009it [06:08, 74.85it/s]"
     ]
    },
    {
     "name": "stdout",
     "output_type": "stream",
     "text": [
      "[37000/82783] resized and saved."
     ]
    },
    {
     "name": "stderr",
     "output_type": "stream",
     "text": [
      "38003it [06:20, 82.07it/s]"
     ]
    },
    {
     "name": "stdout",
     "output_type": "stream",
     "text": [
      "[38000/82783] resized and saved."
     ]
    },
    {
     "name": "stderr",
     "output_type": "stream",
     "text": [
      "39011it [06:33, 80.78it/s]"
     ]
    },
    {
     "name": "stdout",
     "output_type": "stream",
     "text": [
      "[39000/82783] resized and saved."
     ]
    },
    {
     "name": "stderr",
     "output_type": "stream",
     "text": [
      "40009it [06:46, 73.32it/s]"
     ]
    },
    {
     "name": "stdout",
     "output_type": "stream",
     "text": [
      "[40000/82783] resized and saved."
     ]
    },
    {
     "name": "stderr",
     "output_type": "stream",
     "text": [
      "41009it [06:58, 81.50it/s]"
     ]
    },
    {
     "name": "stdout",
     "output_type": "stream",
     "text": [
      "[41000/82783] resized and saved."
     ]
    },
    {
     "name": "stderr",
     "output_type": "stream",
     "text": [
      "42010it [07:11, 57.52it/s]"
     ]
    },
    {
     "name": "stdout",
     "output_type": "stream",
     "text": [
      "[42000/82783] resized and saved."
     ]
    },
    {
     "name": "stderr",
     "output_type": "stream",
     "text": [
      "43006it [07:24, 77.61it/s]"
     ]
    },
    {
     "name": "stdout",
     "output_type": "stream",
     "text": [
      "[43000/82783] resized and saved."
     ]
    },
    {
     "name": "stderr",
     "output_type": "stream",
     "text": [
      "44013it [07:37, 86.73it/s]"
     ]
    },
    {
     "name": "stdout",
     "output_type": "stream",
     "text": [
      "[44000/82783] resized and saved."
     ]
    },
    {
     "name": "stderr",
     "output_type": "stream",
     "text": [
      "45007it [07:49, 79.69it/s]"
     ]
    },
    {
     "name": "stdout",
     "output_type": "stream",
     "text": [
      "[45000/82783] resized and saved."
     ]
    },
    {
     "name": "stderr",
     "output_type": "stream",
     "text": [
      "46013it [08:02, 82.86it/s]"
     ]
    },
    {
     "name": "stdout",
     "output_type": "stream",
     "text": [
      "[46000/82783] resized and saved."
     ]
    },
    {
     "name": "stderr",
     "output_type": "stream",
     "text": [
      "47009it [08:15, 61.98it/s]"
     ]
    },
    {
     "name": "stdout",
     "output_type": "stream",
     "text": [
      "[47000/82783] resized and saved."
     ]
    },
    {
     "name": "stderr",
     "output_type": "stream",
     "text": [
      "48014it [08:28, 82.91it/s]"
     ]
    },
    {
     "name": "stdout",
     "output_type": "stream",
     "text": [
      "[48000/82783] resized and saved."
     ]
    },
    {
     "name": "stderr",
     "output_type": "stream",
     "text": [
      "49007it [08:40, 79.77it/s]"
     ]
    },
    {
     "name": "stdout",
     "output_type": "stream",
     "text": [
      "[49000/82783] resized and saved."
     ]
    },
    {
     "name": "stderr",
     "output_type": "stream",
     "text": [
      "50013it [08:53, 82.72it/s]"
     ]
    },
    {
     "name": "stdout",
     "output_type": "stream",
     "text": [
      "[50000/82783] resized and saved."
     ]
    },
    {
     "name": "stderr",
     "output_type": "stream",
     "text": [
      "51010it [09:05, 80.17it/s]"
     ]
    },
    {
     "name": "stdout",
     "output_type": "stream",
     "text": [
      "[51000/82783] resized and saved."
     ]
    },
    {
     "name": "stderr",
     "output_type": "stream",
     "text": [
      "52015it [09:18, 76.48it/s]"
     ]
    },
    {
     "name": "stdout",
     "output_type": "stream",
     "text": [
      "[52000/82783] resized and saved."
     ]
    },
    {
     "name": "stderr",
     "output_type": "stream",
     "text": [
      "53012it [09:31, 69.71it/s]"
     ]
    },
    {
     "name": "stdout",
     "output_type": "stream",
     "text": [
      "[53000/82783] resized and saved."
     ]
    },
    {
     "name": "stderr",
     "output_type": "stream",
     "text": [
      "54009it [09:43, 78.39it/s]"
     ]
    },
    {
     "name": "stdout",
     "output_type": "stream",
     "text": [
      "[54000/82783] resized and saved."
     ]
    },
    {
     "name": "stderr",
     "output_type": "stream",
     "text": [
      "55012it [09:56, 78.21it/s]"
     ]
    },
    {
     "name": "stdout",
     "output_type": "stream",
     "text": [
      "[55000/82783] resized and saved."
     ]
    },
    {
     "name": "stderr",
     "output_type": "stream",
     "text": [
      "56006it [10:10, 70.52it/s]"
     ]
    },
    {
     "name": "stdout",
     "output_type": "stream",
     "text": [
      "[56000/82783] resized and saved."
     ]
    },
    {
     "name": "stderr",
     "output_type": "stream",
     "text": [
      "57008it [10:24, 72.75it/s]"
     ]
    },
    {
     "name": "stdout",
     "output_type": "stream",
     "text": [
      "[57000/82783] resized and saved."
     ]
    },
    {
     "name": "stderr",
     "output_type": "stream",
     "text": [
      "58015it [10:38, 74.11it/s]"
     ]
    },
    {
     "name": "stdout",
     "output_type": "stream",
     "text": [
      "[58000/82783] resized and saved."
     ]
    },
    {
     "name": "stderr",
     "output_type": "stream",
     "text": [
      "59008it [10:52, 75.21it/s]"
     ]
    },
    {
     "name": "stdout",
     "output_type": "stream",
     "text": [
      "[59000/82783] resized and saved."
     ]
    },
    {
     "name": "stderr",
     "output_type": "stream",
     "text": [
      "60008it [11:06, 71.08it/s]"
     ]
    },
    {
     "name": "stdout",
     "output_type": "stream",
     "text": [
      "[60000/82783] resized and saved."
     ]
    },
    {
     "name": "stderr",
     "output_type": "stream",
     "text": [
      "61017it [11:19, 79.78it/s]"
     ]
    },
    {
     "name": "stdout",
     "output_type": "stream",
     "text": [
      "[61000/82783] resized and saved."
     ]
    },
    {
     "name": "stderr",
     "output_type": "stream",
     "text": [
      "62013it [11:33, 76.98it/s]"
     ]
    },
    {
     "name": "stdout",
     "output_type": "stream",
     "text": [
      "[62000/82783] resized and saved."
     ]
    },
    {
     "name": "stderr",
     "output_type": "stream",
     "text": [
      "63007it [11:46, 79.15it/s]"
     ]
    },
    {
     "name": "stdout",
     "output_type": "stream",
     "text": [
      "[63000/82783] resized and saved."
     ]
    },
    {
     "name": "stderr",
     "output_type": "stream",
     "text": [
      "64016it [12:00, 77.92it/s]"
     ]
    },
    {
     "name": "stdout",
     "output_type": "stream",
     "text": [
      "[64000/82783] resized and saved."
     ]
    },
    {
     "name": "stderr",
     "output_type": "stream",
     "text": [
      "65011it [12:13, 69.02it/s]"
     ]
    },
    {
     "name": "stdout",
     "output_type": "stream",
     "text": [
      "[65000/82783] resized and saved."
     ]
    },
    {
     "name": "stderr",
     "output_type": "stream",
     "text": [
      "66009it [12:25, 81.32it/s]"
     ]
    },
    {
     "name": "stdout",
     "output_type": "stream",
     "text": [
      "[66000/82783] resized and saved."
     ]
    },
    {
     "name": "stderr",
     "output_type": "stream",
     "text": [
      "67014it [12:38, 75.20it/s]"
     ]
    },
    {
     "name": "stdout",
     "output_type": "stream",
     "text": [
      "[67000/82783] resized and saved."
     ]
    },
    {
     "name": "stderr",
     "output_type": "stream",
     "text": [
      "68012it [12:51, 76.85it/s]"
     ]
    },
    {
     "name": "stdout",
     "output_type": "stream",
     "text": [
      "[68000/82783] resized and saved."
     ]
    },
    {
     "name": "stderr",
     "output_type": "stream",
     "text": [
      "69014it [13:05, 74.01it/s]"
     ]
    },
    {
     "name": "stdout",
     "output_type": "stream",
     "text": [
      "[69000/82783] resized and saved."
     ]
    },
    {
     "name": "stderr",
     "output_type": "stream",
     "text": [
      "70013it [13:18, 77.37it/s]"
     ]
    },
    {
     "name": "stdout",
     "output_type": "stream",
     "text": [
      "[70000/82783] resized and saved."
     ]
    },
    {
     "name": "stderr",
     "output_type": "stream",
     "text": [
      "71015it [13:32, 80.60it/s]"
     ]
    },
    {
     "name": "stdout",
     "output_type": "stream",
     "text": [
      "[71000/82783] resized and saved."
     ]
    },
    {
     "name": "stderr",
     "output_type": "stream",
     "text": [
      "72008it [13:46, 76.78it/s]"
     ]
    },
    {
     "name": "stdout",
     "output_type": "stream",
     "text": [
      "[72000/82783] resized and saved."
     ]
    },
    {
     "name": "stderr",
     "output_type": "stream",
     "text": [
      "73012it [13:59, 76.91it/s]"
     ]
    },
    {
     "name": "stdout",
     "output_type": "stream",
     "text": [
      "[73000/82783] resized and saved."
     ]
    },
    {
     "name": "stderr",
     "output_type": "stream",
     "text": [
      "74014it [14:11, 82.44it/s]"
     ]
    },
    {
     "name": "stdout",
     "output_type": "stream",
     "text": [
      "[74000/82783] resized and saved."
     ]
    },
    {
     "name": "stderr",
     "output_type": "stream",
     "text": [
      "75010it [14:24, 81.31it/s]"
     ]
    },
    {
     "name": "stdout",
     "output_type": "stream",
     "text": [
      "[75000/82783] resized and saved."
     ]
    },
    {
     "name": "stderr",
     "output_type": "stream",
     "text": [
      "76006it [14:37, 76.91it/s]"
     ]
    },
    {
     "name": "stdout",
     "output_type": "stream",
     "text": [
      "[76000/82783] resized and saved."
     ]
    },
    {
     "name": "stderr",
     "output_type": "stream",
     "text": [
      "77015it [14:50, 71.44it/s]"
     ]
    },
    {
     "name": "stdout",
     "output_type": "stream",
     "text": [
      "[77000/82783] resized and saved."
     ]
    },
    {
     "name": "stderr",
     "output_type": "stream",
     "text": [
      "78014it [15:03, 76.38it/s]"
     ]
    },
    {
     "name": "stdout",
     "output_type": "stream",
     "text": [
      "[78000/82783] resized and saved."
     ]
    },
    {
     "name": "stderr",
     "output_type": "stream",
     "text": [
      "79013it [15:16, 74.92it/s]"
     ]
    },
    {
     "name": "stdout",
     "output_type": "stream",
     "text": [
      "[79000/82783] resized and saved."
     ]
    },
    {
     "name": "stderr",
     "output_type": "stream",
     "text": [
      "80016it [15:30, 78.50it/s]"
     ]
    },
    {
     "name": "stdout",
     "output_type": "stream",
     "text": [
      "[80000/82783] resized and saved."
     ]
    },
    {
     "name": "stderr",
     "output_type": "stream",
     "text": [
      "81013it [15:43, 73.51it/s]"
     ]
    },
    {
     "name": "stdout",
     "output_type": "stream",
     "text": [
      "[81000/82783] resized and saved."
     ]
    },
    {
     "name": "stderr",
     "output_type": "stream",
     "text": [
      "82010it [15:56, 82.17it/s]"
     ]
    },
    {
     "name": "stdout",
     "output_type": "stream",
     "text": [
      "[82000/82783] resized and saved."
     ]
    },
    {
     "name": "stderr",
     "output_type": "stream",
     "text": [
      "82783it [16:05, 85.72it/s]\n"
     ]
    }
   ],
   "source": [
    "parser = argparse.ArgumentParser()\n",
    "\n",
    "parser.add_argument('--input_dir', type=str, default='C:/Users/priso/Downloads/VQA/Images/train2014',\n",
    "                    help='directory for input images (unresized images)')\n",
    "\n",
    "parser.add_argument('--output_dir', type=str, default='C:/Users/priso/Downloads/VQA/Resized_Images/train2014/',\n",
    "                    help='directory for output images (resized images)')\n",
    "\n",
    "parser.add_argument('--image_size', type=int, default=224,\n",
    "                    help='size of images after resizing')\n",
    "\n",
    "args = parser.parse_args(args=[])\n",
    "\n",
    "main(args)"
   ]
  }
 ],
 "metadata": {
  "colab": {
   "collapsed_sections": [],
   "name": "VQA-img_resize.ipynb",
   "provenance": []
  },
  "kernelspec": {
   "display_name": "Python 3",
   "language": "python",
   "name": "python3"
  },
  "language_info": {
   "codemirror_mode": {
    "name": "ipython",
    "version": 3
   },
   "file_extension": ".py",
   "mimetype": "text/x-python",
   "name": "python",
   "nbconvert_exporter": "python",
   "pygments_lexer": "ipython3",
   "version": "3.8.8"
  }
 },
 "nbformat": 4,
 "nbformat_minor": 1
}
